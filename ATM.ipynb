{
 "cells": [
  {
   "cell_type": "code",
   "execution_count": null,
   "id": "a65bb1b3",
   "metadata": {},
   "outputs": [],
   "source": [
    "def giris_yap():\n",
    "    sifre = \"1234\"  # varsayılan şifre\n",
    "    deneme_sayisi = 0\n",
    "    while deneme_sayisi < 3:\n",
    "        girilen_sifre = input(\"Lütfen şifrenizi girin: \")\n",
    "        if girilen_sifre == sifre:\n",
    "            print(\"Şifre doğru!\")\n",
    "            isim = input(\"Lütfen adınızı girin: \")\n",
    "            bakiye = int(input(\"Lütfen hesap bakiyenizi girin: \"))\n",
    "            print(f\"Merhaba, {isim}! Hesap bakiyeniz {bakiye} TL'dir.\")\n",
    "            return bakiye\n",
    "        else:\n",
    "            deneme_sayisi += 1\n",
    "            if deneme_sayisi < 3:\n",
    "                print(\"Hatalı şifre! Lütfen tekrar deneyin.\")\n",
    "            else:\n",
    "                print(\"Hatalı şifre girdiniz. Program sonlandırılıyor.\")\n",
    "                exit()\n",
    "\n",
    "def para_yatir(bakiye, miktar):\n",
    "    bakiye += miktar\n",
    "    print(f\"Yeni hesap bakiyeniz {bakiye} TL'dir.\")\n",
    "    return bakiye\n",
    "\n",
    "def para_cek(bakiye, miktar):\n",
    "    if miktar > bakiye:\n",
    "        print(\"Hata: Yetersiz bakiye!\")\n",
    "    else:\n",
    "        bakiye -= miktar\n",
    "        print(f\"Yeni hesap bakiyeniz {bakiye} TL'dir.\")\n",
    "    return bakiye\n",
    "\n",
    "bakiye = giris_yap()\n",
    "\n",
    "while True:\n",
    "    print(\"\\nLütfen yapmak istediğiniz işlemi seçin:\")\n",
    "    print(\"1 - Hesap bakiyesini sorgula\")\n",
    "    print(\"2 - Para yatır\")\n",
    "    print(\"3 - Para çek\")\n",
    "    print(\"4 - Çıkış\")\n",
    "    secim = int(input(\"Seçiminiz (1-4): \"))\n",
    "    if secim == 1:\n",
    "        print(f\"Hesap bakiyeniz {bakiye} TL'dir.\")\n",
    "    elif secim == 2:\n",
    "        miktar = int(input(\"Lütfen yatırmak istediğiniz miktarı girin: \"))\n",
    "        bakiye = para_yatir(bakiye, miktar)\n",
    "    elif secim == 3:\n",
    "        miktar = int(input(\"Lütfen çekmek istediğiniz miktarı girin: \"))\n",
    "        bakiye = para_cek(bakiye, miktar)\n",
    "    elif secim == 4:\n",
    "        print(\"İyi günler!\")\n",
    "        break\n",
    "    else:\n",
    "        print(\"Hatalı seçim. Lütfen tekrar deneyin.\")"
   ]
  },
  {
   "cell_type": "code",
   "execution_count": null,
   "id": "0e4b6203",
   "metadata": {},
   "outputs": [],
   "source": []
  }
 ],
 "metadata": {
  "kernelspec": {
   "display_name": "Python 3 (ipykernel)",
   "language": "python",
   "name": "python3"
  },
  "language_info": {
   "codemirror_mode": {
    "name": "ipython",
    "version": 3
   },
   "file_extension": ".py",
   "mimetype": "text/x-python",
   "name": "python",
   "nbconvert_exporter": "python",
   "pygments_lexer": "ipython3",
   "version": "3.9.13"
  }
 },
 "nbformat": 4,
 "nbformat_minor": 5
}
